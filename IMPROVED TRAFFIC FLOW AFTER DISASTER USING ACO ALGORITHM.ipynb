{
 "cells": [
  {
   "cell_type": "code",
   "execution_count": 18,
   "metadata": {},
   "outputs": [
    {
     "name": "stderr",
     "output_type": "stream",
     "text": [
      "D:\\anaconda\\lib\\site-packages\\ipykernel_launcher.py:20: RuntimeWarning: divide by zero encountered in true_divide\n"
     ]
    },
    {
     "name": "stdout",
     "output_type": "stream",
     "text": [
      "route of all the ants at the end :\n",
      "[[1. 2. 5. 3. 4. 1.]\n",
      " [1. 2. 5. 3. 4. 1.]\n",
      " [1. 2. 5. 3. 4. 1.]\n",
      " [1. 2. 5. 3. 4. 1.]\n",
      " [1. 2. 5. 3. 4. 1.]]\n",
      "\n",
      "best path : [1. 2. 5. 3. 4. 1.]\n",
      "cost of the best path 52\n"
     ]
    }
   ],
   "source": [
    "import numpy as np\n",
    "from numpy import inf\n",
    "#given values for the problems\n",
    "d = np.array([[0,10,12,11,14]\n",
    "            ,[10,0,13,15,8]\n",
    "            ,[12,13,0,9,14]\n",
    "            ,[11,15,9,0,16]\n",
    "            ,[14,8,14,16,0]])\n",
    "iteration = 100\n",
    "n_ants = 5\n",
    "n_citys = 5\n",
    "\n",
    "# intialization part\n",
    "m = n_ants\n",
    "n = n_citys\n",
    "e = .5 #evaporation rate\n",
    "alpha = 1 #pheromone factor\n",
    "beta = 2 #visibility factor\n",
    "#calculating the visibility of the next city visibility(i,j)=1/d(i,j)\n",
    "visibility = 1/d\n",
    "visibility[visibility == inf ] = 0\n",
    "#intializing pheromne present at the paths to the cities\n",
    "pheromne = .1*np.ones((m,n))\n",
    "#intializing the rute of the ants with size rute(n_ants,n_citys+1)\n",
    "#note adding 1 because we want to come back to the source city\n",
    "rute = np.ones((m,n+1))\n",
    "for ite in range(iteration):\n",
    "    rute[:,0] = 1 #initial starting and ending positon of every ants '1' i.e city '1'\n",
    "    for i in range(m):\n",
    "        temp_visibility = np.array(visibility) #creating a copy of visibility\n",
    "        for j in range(n-1):\n",
    "        #print(rute)\n",
    "            combine_feature = np.zeros(5) #intializing combine_feature array to zero\n",
    "            cum_prob = np.zeros(5) #intializing cummulative probability array to zeros\n",
    "            cur_loc = int(rute[i,j]-1) #current city of the ant\n",
    "            temp_visibility[:,cur_loc] = 0 #making visibility of the current city as zero\n",
    "            p_feature = np.power(pheromne[cur_loc,:],beta)\n",
    "            #calculating pheromne feature\n",
    "            v_feature = np.power(temp_visibility[cur_loc,:],alpha)\n",
    "        #calculating visibility feature\n",
    "            p_feature = p_feature[:,np.newaxis]\n",
    "        #adding axis to make a size[5,1]\n",
    "            v_feature = v_feature[:,np.newaxis]\n",
    "        #adding axis to make a size[5,1]\n",
    "            combine_feature = np.multiply(p_feature,v_feature)\n",
    "        #calculating the combine feature\n",
    "            total = np.sum(combine_feature)\n",
    "             #sum of all the feature\n",
    "            probs = combine_feature/total \n",
    "        #finding probability of element probs(i) = comine_feature(i)/total\n",
    "            cum_prob = np.cumsum(probs) \n",
    "        #calculating cummulative sum\n",
    "        #print(cum_prob)\n",
    "            r = np.random.random_sample() #randon no in [0,1)\n",
    "        #print(r)\n",
    "            city = np.nonzero(cum_prob>r)[0][0]+1 #finding the next city having probability higher then random(r)\n",
    "        #print(city)\n",
    "            rute[i,j+1] = city #adding city to route\n",
    "        left = list(set([i for i in range(1,n+1)])-set(rute[i,:-2]))[0]\n",
    "    #finding the last untraversed city to route\n",
    "        rute[i,-2] = left\n",
    "            #adding untraversed city toroute\n",
    "    rute_opt = np.array(rute) #intializing optimal route\n",
    "    dist_cost = np.zeros((m,1)) #intializing total_distance_of_tour with zero\n",
    "    for i in range(m):\n",
    "        s = 0\n",
    "        for j in range(n-1):\n",
    "            s = s + d[int(rute_opt[i,j])-1,int(rute_opt[i,j+1])-1]\n",
    "        #calcualting total tour distance\n",
    "        dist_cost[i]=s #storing distance of tour for 'i'th ant at location 'i'\n",
    "    dist_min_loc = np.argmin(dist_cost) #finding location of minimum of dist_cost\n",
    "    dist_min_cost = dist_cost[dist_min_loc] #finging min of dist_cost\n",
    "    best_route = rute[dist_min_loc,:] #intializing current traversed as best route\n",
    "    pheromne = (1-e)*pheromne #evaporation of pheromne with (1-e)\n",
    "    for i in range(m):\n",
    "        for j in range(n-1):\n",
    "            dt = 1/dist_cost[i]\n",
    "            pheromne[int(rute_opt[i,j])-1,int(rute_opt[i,j+1])-1] = pheromne[int(rute_opt[i,j])-1,int(rute_opt[i,j+1])-1] + dt\n",
    "            #updating the pheromne with delta_distance\n",
    "            #delta_distance will be more with min_dist i.e adding more weight to that route peromne\n",
    "print('route of all the ants at the end :')\n",
    "print(rute_opt)\n",
    "print()\n",
    "print('best path :',best_route)\n",
    "print('cost of the best path',int(dist_min_cost[0]) + d[int(best_route[-2])-1,0])"
   ]
  },
  {
   "cell_type": "code",
   "execution_count": 12,
   "metadata": {},
   "outputs": [],
   "source": []
  },
  {
   "cell_type": "code",
   "execution_count": 13,
   "metadata": {},
   "outputs": [
    {
     "name": "stderr",
     "output_type": "stream",
     "text": [
      "D:\\anaconda\\lib\\site-packages\\ipykernel_launcher.py:2: RuntimeWarning: divide by zero encountered in true_divide\n",
      "  \n"
     ]
    }
   ],
   "source": []
  },
  {
   "cell_type": "code",
   "execution_count": 14,
   "metadata": {},
   "outputs": [],
   "source": []
  },
  {
   "cell_type": "code",
   "execution_count": 15,
   "metadata": {},
   "outputs": [
    {
     "ename": "IndentationError",
     "evalue": "unexpected indent (<ipython-input-15-666a5689dbb4>, line 2)",
     "output_type": "error",
     "traceback": [
      "\u001b[1;36m  File \u001b[1;32m\"<ipython-input-15-666a5689dbb4>\"\u001b[1;36m, line \u001b[1;32m2\u001b[0m\n\u001b[1;33m    v_feature = np.power(temp_visibility[cur_loc,:],alpha)\u001b[0m\n\u001b[1;37m    ^\u001b[0m\n\u001b[1;31mIndentationError\u001b[0m\u001b[1;31m:\u001b[0m unexpected indent\n"
     ]
    }
   ],
   "source": [
    "        "
   ]
  },
  {
   "cell_type": "code",
   "execution_count": 16,
   "metadata": {},
   "outputs": [
    {
     "ename": "IndentationError",
     "evalue": "unexpected indent (<ipython-input-16-f8ef10d62add>, line 2)",
     "output_type": "error",
     "traceback": [
      "\u001b[1;36m  File \u001b[1;32m\"<ipython-input-16-f8ef10d62add>\"\u001b[1;36m, line \u001b[1;32m2\u001b[0m\n\u001b[1;33m    probs = combine_feature/total\u001b[0m\n\u001b[1;37m    ^\u001b[0m\n\u001b[1;31mIndentationError\u001b[0m\u001b[1;31m:\u001b[0m unexpected indent\n"
     ]
    }
   ],
   "source": [
    "       "
   ]
  },
  {
   "cell_type": "code",
   "execution_count": null,
   "metadata": {},
   "outputs": [],
   "source": []
  }
 ],
 "metadata": {
  "kernelspec": {
   "display_name": "Python 3",
   "language": "python",
   "name": "python3"
  },
  "language_info": {
   "codemirror_mode": {
    "name": "ipython",
    "version": 3
   },
   "file_extension": ".py",
   "mimetype": "text/x-python",
   "name": "python",
   "nbconvert_exporter": "python",
   "pygments_lexer": "ipython3",
   "version": "3.7.1"
  }
 },
 "nbformat": 4,
 "nbformat_minor": 2
}
